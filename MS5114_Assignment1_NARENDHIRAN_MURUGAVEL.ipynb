{
 "cells": [
  {
   "cell_type": "markdown",
   "id": "24d6a79d",
   "metadata": {},
   "source": [
    "# MS5114 Assignment 1\n",
    "\n",
    "In this assignment, you are required to analyze data from Yahoo Finance website using three Python libraries (i.e. `yfinance`, `tensorflow` and `transformers`). Make sure that the required libraries are installed in your Python distribution (use Anaconda Navigator or `pip` command for this purpose). You are to expected have knowledge of following topics to solve the problems.\n",
    "\n",
    "* data types, operators, conditions, functions\n",
    "* lists, dictionaries, tuples, data frames\n",
    "* strings\n",
    "\n",
    "For details of relevant libraries visit following \n",
    "\n",
    "* https://aroussi.com/post/python-yahoo-finance\n",
    "* https://huggingface.co/blog/sentiment-analysis-python\n",
    "\n",
    "### Name: NARENDHIRAN MURUGAVEL\n",
    "### Student Id: 23102959"
   ]
  },
  {
   "cell_type": "code",
   "execution_count": 30,
   "id": "ba9b80e1",
   "metadata": {},
   "outputs": [],
   "source": [
    "# import required libraries\n",
    "import yfinance as yf\n",
    "from transformers import pipeline"
   ]
  },
  {
   "cell_type": "markdown",
   "id": "9cfe3f22-58af-430d-8f51-5d924f783345",
   "metadata": {},
   "source": [
    "## Problem 1\n",
    "\n",
    "Write a function `calc_returns(prices)`. This function will process a list of stock prices and calculate the periodic returns. The function should assume that the oldest price is in `prices[0]` and latest price in `prices[-1]`. The function should use a loop to accumulate a list of returns for periods 1 to n. The periodic rate of return is calculated as the rate of change in price from the previous period, i.e.,\n",
    "\n",
    "$r_i = \\frac{p_i}{p_{i - 1}} - 1$\n",
    "\n",
    "For example:\n",
    "\n",
    "```\n",
    ">>> prices = [100,110,105,112,115]\n",
    ">>> returns = calc_returns(prices)\n",
    ">>> print(returns)`\n",
    "[0.10000000000000009, -0.045454545454545414, 0.06666666666666665, 0.02678571428571419]\n",
    "```\n",
    "\n",
    "_Notes_:\n",
    "\n",
    "* For $n$ stock prices, you will generate a list of $n-1$ periodic returns. There is no return for period $0$.\n",
    "* The function `calc_prices` should not print any output, but rather creates and returns a list of periodic rates of return.\n",
    "* When computing with binary floating point numbers, there is a small representational error which might result in an unexpected value in the insignificant digits (e.g., (110 - 100) / 100 gave a result of 0.10000000000000009.) Do not be alarmed by this small error!\n",
    "* The values in the list of returns will be unformatted floating-point numbers; you can use the `round()` function to round up to 2 decimal points."
   ]
  },
  {
   "cell_type": "code",
   "execution_count": 31,
   "id": "b31a0c0c-b5f3-4253-b598-3ed65395a68b",
   "metadata": {},
   "outputs": [],
   "source": [
    "# this is an empty fuction\n",
    "def calc_returns(prices):\n",
    "    returns_list = [] \n",
    "    for i in range(1, len(prices)):\n",
    "        # Calculation formula \n",
    "        return_value = prices[i] / prices[i - 1] - 1\n",
    "        # Rounding the result\n",
    "        returns_list.append(round(return_value, 2))\n",
    "    # Returning the calculated list\n",
    "    return returns_list\n"
   ]
  },
  {
   "cell_type": "markdown",
   "id": "efc2827d-eb67-44c6-a35d-e80dd631b8ac",
   "metadata": {},
   "source": [
    "Analyze stock prices and returns for a specific period e.g. 1 week or 2 weeks. \n",
    "\n",
    "* Using `yfinance` library, load the data about a company's share prices using their stock ticker e.g. \"MSFT\" for Microsoft.\n",
    "* Extract the list of closing prices for each day.\n",
    "* Use the `calc_returns()` function to calculate the list to returns.\n",
    "* Print both stock prices and returns.\n",
    "* Explain the trend in stock prices and returns.\n",
    "\n",
    "_Note: Avoid using ticker for popular companies so that there is no overlap of tickers between students. Look your Yahoo Finance website to find a different company and its ticker_"
   ]
  },
  {
   "cell_type": "code",
   "execution_count": 32,
   "id": "7dd6c85d-6d93-4e5f-b9f6-09a774ff9999",
   "metadata": {},
   "outputs": [
    {
     "name": "stderr",
     "output_type": "stream",
     "text": [
      "\r\n",
      "[*********************100%%**********************]  1 of 1 completed"
     ]
    },
    {
     "name": "stdout",
     "output_type": "stream",
     "text": [
      "\n",
      "Closing Prices:\n",
      "[276.8800048828125, 279.0299987792969, 279.94000244140625, 287.8599853515625, 287.7300109863281, 281.0899963378906, 283.79998779296875, 285.6600036621094, 288.1099853515625]\n",
      "\n",
      "Returns:\n",
      "[0.007765, 0.003261, 0.028292, -0.000452, -0.023077, 0.009641, 0.006554, 0.008577]\n",
      "\n",
      "Analysis and Explanation:\n",
      "The trend in stock prices:\n",
      "The closing prices of Salesforce (CRM) stock over the 2-week period are as follows: [276.8800048828125, 279.0299987792969, 279.94000244140625, 287.8599853515625, 287.7300109863281, 281.0899963378906, 283.79998779296875, 285.6600036621094, 288.1099853515625]\n",
      "\n",
      "The trend in returns:\n",
      "The calculated returns based on the closing prices are as follows: [0.007765, 0.003261, 0.028292, -0.000452, -0.023077, 0.009641, 0.006554, 0.008577]\n",
      "\n",
      "Explanation:\n",
      "By analyzing the closing prices and returns, you can observe how the stock has performed over the specified period.\n"
     ]
    },
    {
     "name": "stderr",
     "output_type": "stream",
     "text": [
      "\n"
     ]
    }
   ],
   "source": [
    "import yfinance as yf\n",
    "\n",
    "# Function to calculate periodic returns\n",
    "def calc_returns(prices):\n",
    "    returns = []\n",
    "    for i in range(1, len(prices)):\n",
    "        return_value = (prices[i] - prices[i - 1]) / prices[i - 1]\n",
    "        returns.append(round(return_value, 6))\n",
    "    return returns\n",
    "\n",
    "# Function to fetch stock data from Yahoo Finance\n",
    "def fetch_stock_data(ticker, start_date, end_date):\n",
    "    stock_data = yf.download(ticker, start=start_date, end=end_date)\n",
    "    return stock_data\n",
    "\n",
    "# Declaring Salesforce stock as ticker and passing start date and end date\n",
    "ticker = 'CRM'\n",
    "start_date = '2024-01-24'\n",
    "end_date = '2024-02-06'\n",
    "\n",
    "# Fetching stock data for 2 week time period\n",
    "stock_data = fetch_stock_data(ticker, start_date, end_date)\n",
    "\n",
    "# Extracting closing price from stock_data and storing it to a list\n",
    "closing_prices = stock_data['Close'].tolist()\n",
    "\n",
    "# Printing closing prices\n",
    "print(\"\\nClosing Prices:\")\n",
    "print(closing_prices)\n",
    "\n",
    "# Calculating returns using calc_returns() function\n",
    "returns = calc_returns(closing_prices)\n",
    "\n",
    "# Printing returns\n",
    "print(\"\\nReturns:\")\n",
    "print(returns)\n",
    "\n",
    "# Analysis and Explanation\n",
    "print(\"\\nAnalysis and Explanation:\")\n",
    "print(\"The trend in stock prices:\")\n",
    "print(\"The closing prices of Salesforce (CRM) stock over the 2-week period are as follows:\", closing_prices)\n",
    "print(\"\\nThe trend in returns:\")\n",
    "print(\"The calculated returns based on the closing prices are as follows:\", returns)\n",
    "print(\"\\nExplanation:\")\n",
    "print(\"By analyzing the closing prices and returns, you can observe how the stock has performed over the specified period.\")\n"
   ]
  },
  {
   "cell_type": "markdown",
   "id": "5c8d6b3a-c31d-4d40-8c37-28c4ad2a3988",
   "metadata": {},
   "source": [
    "_You analysis goes here_"
   ]
  },
  {
   "cell_type": "markdown",
   "id": "ca0dabdf-6b3e-4c97-bdb0-a1086ebc0f6b",
   "metadata": {},
   "source": [
    "## Problem 2\n",
    "Write a function `calc_simple_moving_average(prices, window_size)`. This function will process a list of stock prices and calculate the simple moving average based on a specified window size. The function should assume that the oldest price is in `prices[0]` and latest price in `prices[-1]`. The function should use a loop to calculate a list of moving averages for periods $1$ to $n$. The simple moving average is calculate within a specific window $k$ and shifting throught the list of prices , i.e.,\n",
    "\n",
    "$a_i = \\frac{1}{k} \\sum_{i}^{i+k} p_i$\n",
    "\n",
    "For example:\n",
    "\n",
    "```\n",
    ">>> prices = [100,110,105,112,115]\n",
    ">>> averages = calc_simple_moving_average(prices, 3)\n",
    ">>> print(averages)`\n",
    "[105, 109, 110.666666667]\n",
    "```\n",
    "\n",
    "_Notes_:\n",
    "\n",
    "* For $n$ stock prices, you will generate a list of $n-k+1$ averages. There is no average for first $k-1$ prices.\n",
    "* The function `calc_simple_moving_average` should not print any output, but rather creates and returns a list of averages.\n",
    "* The values in the list of returns will be unformatted floating-point numbers; you can use the `round()` function to round up to 2 decimal points.\n"
   ]
  },
  {
   "cell_type": "code",
   "execution_count": 33,
   "id": "9dd09cda-6440-4f7b-beb0-d8c91d61a493",
   "metadata": {},
   "outputs": [],
   "source": [
    "# this is an empty fuction\n",
    "def calc_simple_moving_average(prices, windows_size):\n",
    "    moving_averages = []  # Changed variable name from 'averages' to 'moving_averages'\n",
    "    for i in range(len(prices) - window_size + 1):\n",
    "        average_i = sum(prices[i:i + window_size]) / window_size\n",
    "        moving_averages.append(round(average_i, 2))\n",
    "    return moving_averages"
   ]
  },
  {
   "cell_type": "markdown",
   "id": "e61cab02-a240-419b-b9bf-31989cfac503",
   "metadata": {},
   "source": [
    "Analyze stock prices and averages for a specific period e.g. 1 month or 2 months. \n",
    "\n",
    "* Using `yfinance` library, load the data about a company's share prices using their stock ticker e.g. \"MSFT\" for Microsoft.\n",
    "* Extract the list of closing prices for each day.\n",
    "* Use the `calc_simple_moving_average()` function to calculate the simple moving average.\n",
    "* Print both stock prices and averages.\n",
    "* Explain the trend in stock prices and averages.\n",
    "\n",
    "_Note: You can use the same ticker here as for the previous problem_"
   ]
  },
  {
   "cell_type": "code",
   "execution_count": 34,
   "id": "fde37a2e-ee13-4b39-b3f2-7a56ddf02bef",
   "metadata": {},
   "outputs": [
    {
     "name": "stderr",
     "output_type": "stream",
     "text": [
      "\r\n",
      "[*********************100%%**********************]  1 of 1 completed"
     ]
    },
    {
     "name": "stdout",
     "output_type": "stream",
     "text": [
      "\n",
      "Closing Prices:\n",
      "[260.8699951171875, 261.3399963378906, 264.1300048828125, 271.3800048828125, 271.92999267578125, 269.19000244140625, 271.44000244140625, 274.4599914550781, 280.8800048828125, 280.29998779296875, 276.7699890136719, 276.8800048828125, 279.0299987792969, 279.94000244140625, 287.8599853515625, 287.7300109863281, 281.0899963378906, 283.79998779296875, 285.6600036621094, 288.1099853515625]\n",
      "\n",
      "Simple Moving Averages:\n",
      "[264.43, 267.19, 269.16, 270.99, 271.75, 273.99, 276.77, 278.1, 278.71, 278.24, 278.15, 280.93, 283.64, 284.15, 285.12, 284.57, 284.66]\n",
      "\n",
      "Analysis and Explanation:\n",
      "The trend in stock prices:\n",
      "The closing prices of Salesforce (CRM) stock over the specified period are as follows: [260.8699951171875, 261.3399963378906, 264.1300048828125, 271.3800048828125, 271.92999267578125, 269.19000244140625, 271.44000244140625, 274.4599914550781, 280.8800048828125, 280.29998779296875, 276.7699890136719, 276.8800048828125, 279.0299987792969, 279.94000244140625, 287.8599853515625, 287.7300109863281, 281.0899963378906, 283.79998779296875, 285.6600036621094, 288.1099853515625]\n",
      "\n",
      "The trend in simple moving averages:\n",
      "The calculated simple moving averages based on the closing prices are as follows: [264.43, 267.19, 269.16, 270.99, 271.75, 273.99, 276.77, 278.1, 278.71, 278.24, 278.15, 280.93, 283.64, 284.15, 285.12, 284.57, 284.66]\n",
      "\n",
      "Explanation:\n",
      "Simple moving averages provide a smoothed representation of stock price trends. By analyzing both stock prices and moving averages, you can gain insights into the overall trend and potential turning points in the stock's performance.\n"
     ]
    },
    {
     "name": "stderr",
     "output_type": "stream",
     "text": [
      "\n"
     ]
    }
   ],
   "source": [
    "# code for above analysis goes here\n",
    "# Function to calculate the simple moving average\n",
    "def calc_simple_moving_average(prices, period_length):\n",
    "    moving_averages = []\n",
    "    for i in range(len(prices) - period_length + 1):\n",
    "        average = sum(prices[i:i + period_length]) / period_length\n",
    "        moving_averages.append(round(average, 2))\n",
    "    return moving_averages\n",
    "\n",
    "# Setting the period length for simple moving average\n",
    "period_length = 4\n",
    "\n",
    "# Specifying the start and end dates for fetching stock data\n",
    "start_date = '2024-01-06'\n",
    "end_date = '2024-02-06'\n",
    "\n",
    "# Fetching historical stock data for a specific time period\n",
    "stock_data = fetch_stock_data(ticker, start_date, end_date)\n",
    "\n",
    "# Extracting closing prices from stock_data and converting to a list\n",
    "closing_prices_month = stock_data['Close'].tolist()\n",
    "\n",
    "# Calculating simple moving averages using the specified period length\n",
    "moving_averages = calc_simple_moving_average(closing_prices_month, period_length)\n",
    "\n",
    "# Printing the closing prices\n",
    "print(\"\\nClosing Prices:\")\n",
    "print(closing_prices_month)\n",
    "\n",
    "# Printing the calculated simple moving averages\n",
    "print(\"\\nSimple Moving Averages:\")\n",
    "print(moving_averages)\n",
    "\n",
    "# Analysis and Explanation\n",
    "print(\"\\nAnalysis and Explanation:\")\n",
    "print(\"The trend in stock prices:\")\n",
    "print(\"The closing prices of Salesforce (CRM) stock over the specified period are as follows:\", closing_prices_month)\n",
    "print(\"\\nThe trend in simple moving averages:\")\n",
    "print(\"The calculated simple moving averages based on the closing prices are as follows:\", moving_averages)\n",
    "print(\"\\nExplanation:\")\n",
    "print(\"Simple moving averages provide a smoothed representation of stock price trends. By analyzing both stock prices and moving averages, you can gain insights into the overall trend and potential turning points in the stock's performance.\")\n",
    "\n",
    "\n",
    "\n"
   ]
  },
  {
   "cell_type": "markdown",
   "id": "d1e8676f-01e0-4012-9cf8-46bde8e0b172",
   "metadata": {},
   "source": [
    "_You analysis for averages goes here_"
   ]
  },
  {
   "cell_type": "markdown",
   "id": "86ff75fb-1e6f-4de5-a01c-88a8ffe9736d",
   "metadata": {},
   "source": [
    "## Problem 3\n",
    "\n",
    "Find out the sentiment of recent news about a company. \n",
    "\n",
    "* Using `yfinance` library, load the news about a company using their stock ticker e.g. \"MSFT\" for Microsoft.\n",
    "* Extract the list of news titles.\n",
    "* Use the `sentiment_pipeline()` function from `transformers` library to calculate the sentiment for each title.\n",
    "* Print both news and sentiment.\n",
    "* Explain the sentiment in news.\n",
    "\n",
    "_Note: You can use the same ticker here as for the previous problem_"
   ]
  },
  {
   "cell_type": "code",
   "execution_count": 35,
   "id": "6eafaef1",
   "metadata": {},
   "outputs": [
    {
     "name": "stderr",
     "output_type": "stream",
     "text": [
      "No model was supplied, defaulted to distilbert-base-uncased-finetuned-sst-2-english and revision af0f99b (https://huggingface.co/distilbert-base-uncased-finetuned-sst-2-english).\n",
      "Using a pipeline without specifying a model name and revision in production is not recommended.\n",
      "All PyTorch model weights were used when initializing TFDistilBertForSequenceClassification.\n",
      "\n",
      "All the weights of TFDistilBertForSequenceClassification were initialized from the PyTorch model.\n",
      "If your task is similar to the task the model of the checkpoint was trained on, you can already use TFDistilBertForSequenceClassification for predictions without further training.\n"
     ]
    },
    {
     "name": "stdout",
     "output_type": "stream",
     "text": [
      "News Titles:\n",
      "- 10 Best Stocks To Invest In 2024 For Beginners\n",
      "- Brokers Suggest Investing in Salesforce.com (CRM): Read This Before Placing a Bet\n",
      "- This Artificial Intelligence (AI) Stock Topped the Dow Jones Last Year. Here's Why I Think It'll Do It Again in 2024.\n",
      "- Navigating Market Uncertainty: Intrinsic Value of Salesforce Inc\n",
      "- Salesforce.com (CRM) Gains As Market Dips: What You Should Know\n",
      "- Is Salesforce Stock A Buy Amid Expectations For AI Revenue Boost?\n",
      "- What Is Salesforce, Inc.'s (NYSE:CRM) Share Price Doing?\n",
      "- S&P 500 Bull Market: 3 Phenomenal Stocks to Buy Now\n",
      "\n",
      "Sentiments:\n",
      "- Emotion: POSITIVE | Score: 0.9996217489242554\n",
      "- Emotion: NEGATIVE | Score: 0.9982097148895264\n",
      "- Emotion: NEGATIVE | Score: 0.8448467254638672\n",
      "- Emotion: POSITIVE | Score: 0.982317328453064\n",
      "- Emotion: POSITIVE | Score: 0.9725693464279175\n",
      "- Emotion: NEGATIVE | Score: 0.997160792350769\n",
      "- Emotion: NEGATIVE | Score: 0.9989187717437744\n",
      "- Emotion: POSITIVE | Score: 0.9993057250976562\n",
      "\n",
      "Sentiment Explanation:\n",
      "Total News: 8\n",
      "Positive News: 4 (50.00%)\n",
      "Negative News: 4 (50.00%)\n",
      "Neutral News: 0 (0.00%)\n",
      "\n",
      "The overall sentiment in the news about Salesforce is neutral. The news appears to consist of routine updates or information without a significant impact on the company's outlook.\n"
     ]
    }
   ],
   "source": [
    "# code for above analysis goes here\n",
    "ticker = 'CRM'\n",
    "\n",
    "# Function to fetch recent news headlines for a given stock ticker\n",
    "def fetch_news(ticker):\n",
    "    # Instantiate a Ticker object from yfinance for the given stock ticker\n",
    "    stock_info = yf.Ticker(ticker)\n",
    "    \n",
    "    # Retrieve recent news headlines\n",
    "    news = stock_info.news\n",
    "    \n",
    "    # Extract titles from the news articles\n",
    "    titles = [article['title'] for article in news]\n",
    "    \n",
    "    return titles\n",
    "\n",
    "# Function to analyze sentiment for a list of news titles\n",
    "def analyze_sentiment(news_titles):\n",
    "    # Instantiate a sentiment analysis pipeline\n",
    "    sentiment_analyzer = pipeline('sentiment-analysis')\n",
    "    \n",
    "    # Analyze sentiment for each news title\n",
    "    sentiments = sentiment_analyzer(news_titles)\n",
    "    \n",
    "    return sentiments\n",
    "\n",
    "# Fetch news titles for the specified stock ticker\n",
    "titles = fetch_news(ticker)\n",
    "\n",
    "# Analyze sentiment for the fetched news titles\n",
    "sentiments = analyze_sentiment(titles)\n",
    "\n",
    "# Print news titles\n",
    "print(\"News Titles:\")\n",
    "for title in titles:\n",
    "    print(\"- \" + title)\n",
    "\n",
    "# Print sentiment analysis results\n",
    "print(\"\\nSentiments:\")\n",
    "for sentiment in sentiments:\n",
    "    # Convert sentiment score to float\n",
    "    score = float(sentiment['score'])\n",
    "    \n",
    "    # Print sentiment label and score\n",
    "    print(\"- Emotion:\", sentiment['label'], \"| Score:\", score)\n",
    "\n",
    "# Explain the sentiment in news\n",
    "positive_count = sum(1 for s in sentiments if s['label'] == 'POSITIVE')\n",
    "negative_count = sum(1 for s in sentiments if s['label'] == 'NEGATIVE')\n",
    "neutral_count = sum(1 for s in sentiments if s['label'] == 'NEUTRAL')\n",
    "\n",
    "total_news = len(titles)\n",
    "\n",
    "print(\"\\nSentiment Explanation:\")\n",
    "print(f\"Total News: {total_news}\")\n",
    "print(f\"Positive News: {positive_count} ({(positive_count/total_news)*100:.2f}%)\")\n",
    "print(f\"Negative News: {negative_count} ({(negative_count/total_news)*100:.2f}%)\")\n",
    "print(f\"Neutral News: {neutral_count} ({(neutral_count/total_news)*100:.2f}%)\")\n",
    "\n",
    "# Provide an explanation of the sentiment in the news\n",
    "if positive_count > negative_count:\n",
    "    print(\"\\nThe overall sentiment in the news about Salesforce is positive. This positivity may be attributed to favorable financial results, positive business developments, or optimistic market trends.\")\n",
    "elif negative_count > positive_count:\n",
    "    print(\"\\nThe overall sentiment in the news about Salesforce is negative. This negativity may be linked to poor financial performance, unfavorable business events, or concerning developments.\")\n",
    "else:\n",
    "    print(\"\\nThe overall sentiment in the news about Salesforce is neutral. The news appears to consist of routine updates or information without a significant impact on the company's outlook.\")"
   ]
  },
  {
   "cell_type": "markdown",
   "id": "940e15c7-162d-4547-9dd2-fee9332d0ec6",
   "metadata": {},
   "source": [
    "_You analysis of sentiment goes here_"
   ]
  }
 ],
 "metadata": {
  "kernelspec": {
   "display_name": "Python 3 (ipykernel)",
   "language": "python",
   "name": "python3"
  },
  "language_info": {
   "codemirror_mode": {
    "name": "ipython",
    "version": 3
   },
   "file_extension": ".py",
   "mimetype": "text/x-python",
   "name": "python",
   "nbconvert_exporter": "python",
   "pygments_lexer": "ipython3",
   "version": "3.11.5"
  }
 },
 "nbformat": 4,
 "nbformat_minor": 5
}
